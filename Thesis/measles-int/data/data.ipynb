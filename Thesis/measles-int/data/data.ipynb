{
 "cells": [
  {
   "cell_type": "code",
   "execution_count": 83,
   "metadata": {},
   "outputs": [],
   "source": [
    "import csv, re\n",
    "\n",
    "data = []\n",
    "i = 0\n",
    "with open (\"measles_data_14-15.txt\", \"r\") as csvfile:\n",
    "    reader = csv.DictReader(csvfile, delimiter = \"\\t\")\n",
    "    for row in reader:\n",
    "        #county_data = [row['state'], row['county or district name']]\n",
    "        if row['% fully vaccinated (all vaccines), all schools'] != \"\":\n",
    "            vax_rate = float(row['% fully vaccinated (all vaccines), all schools'])\n",
    "            i += 1\n",
    "        else:\n",
    "            if row['% 2 dose MMR - all schools'] != \"\":\n",
    "                vax_rate = float(row['% 2 dose MMR - all schools'])\n",
    "                i += 1\n",
    "        match = re.search(r'[0-9]+', row['# kindergarten students in county'].replace(',', '')) \n",
    "        if match:\n",
    "            num_students = int(match[0])\n",
    "        else:\n",
    "            num_students = 0\n",
    "        data.append([row['state'], row['county or district name'], num_students, vax_rate])"
   ]
  },
  {
   "cell_type": "code",
   "execution_count": 86,
   "metadata": {},
   "outputs": [],
   "source": [
    "sorted_data = sorted(data, key = lambda x: (x[3], x[2]), reverse = True)"
   ]
  },
  {
   "cell_type": "code",
   "execution_count": 87,
   "metadata": {},
   "outputs": [
    {
     "data": {
      "text/plain": [
       "[['Maryland', 'Baltimore County', 9336, 1.0],\n",
       " ['Maryland', 'Howard', 4258, 1.0],\n",
       " ['Maryland', 'Frederick', 3048, 1.0],\n",
       " ['Maryland', 'Harford', 2969, 1.0],\n",
       " ['IOWA', 'Scott ', 2546, 1.0],\n",
       " ['Maryland', 'Charles', 1781, 1.0],\n",
       " ['IOWA', 'Dallas ', 1385, 1.0],\n",
       " ['Maryland', \"St. Mary's\", 1328, 1.0],\n",
       " ['IOWA', 'Pottawattamie ', 1307, 1.0],\n",
       " ['IOWA', 'Dubuque ', 1268, 1.0]]"
      ]
     },
     "execution_count": 87,
     "metadata": {},
     "output_type": "execute_result"
    }
   ],
   "source": [
    "sorted_data[:10]"
   ]
  },
  {
   "cell_type": "code",
   "execution_count": 88,
   "metadata": {},
   "outputs": [],
   "source": [
    "with open(\"measles_data.csv\", \"w\") as csvfile:\n",
    "    writer = csv.writer(csvfile)\n",
    "    writer.writerow([\"state\", \"county\", \"no_of_kg_student\",\"vax-rate\"])\n",
    "    writer.writerows(sorted_data)"
   ]
  },
  {
   "cell_type": "code",
   "execution_count": null,
   "metadata": {},
   "outputs": [],
   "source": []
  }
 ],
 "metadata": {
  "kernelspec": {
   "display_name": "Python 3",
   "language": "python",
   "name": "python3"
  },
  "language_info": {
   "codemirror_mode": {
    "name": "ipython",
    "version": 3
   },
   "file_extension": ".py",
   "mimetype": "text/x-python",
   "name": "python",
   "nbconvert_exporter": "python",
   "pygments_lexer": "ipython3",
   "version": "3.6.3"
  }
 },
 "nbformat": 4,
 "nbformat_minor": 2
}
